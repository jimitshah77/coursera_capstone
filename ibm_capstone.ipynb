{
  "nbformat": 4,
  "nbformat_minor": 0,
  "metadata": {
    "colab": {
      "name": "ibm_capstone.ipynb",
      "provenance": [],
      "authorship_tag": "ABX9TyPTDosJ0la46nqK26do1CNN",
      "include_colab_link": true
    },
    "kernelspec": {
      "name": "python3",
      "display_name": "Python 3"
    }
  },
  "cells": [
    {
      "cell_type": "markdown",
      "metadata": {
        "id": "view-in-github",
        "colab_type": "text"
      },
      "source": [
        "<a href=\"https://colab.research.google.com/github/jimitshah77/coursera_capstone/blob/master/ibm_capstone.ipynb\" target=\"_parent\"><img src=\"https://colab.research.google.com/assets/colab-badge.svg\" alt=\"Open In Colab\"/></a>"
      ]
    },
    {
      "cell_type": "markdown",
      "metadata": {
        "id": "uise85Ijqsvq",
        "colab_type": "text"
      },
      "source": [
        "# Battle of Neighbors\n",
        "### This Capstone is a part of IBM's Professional Data Science Course."
      ]
    },
    {
      "cell_type": "code",
      "metadata": {
        "id": "iShSvXXsrC3_",
        "colab_type": "code",
        "colab": {}
      },
      "source": [
        "import pandas as pd\n",
        "import numpy as np"
      ],
      "execution_count": 0,
      "outputs": []
    },
    {
      "cell_type": "code",
      "metadata": {
        "id": "IgHjxOtjrQVp",
        "colab_type": "code",
        "colab": {
          "base_uri": "https://localhost:8080/",
          "height": 34
        },
        "outputId": "674a58a5-9d6d-4ed7-ce46-d94aef67e453"
      },
      "source": [
        "print('Welcome to the Battle of Neigbours!')"
      ],
      "execution_count": 2,
      "outputs": [
        {
          "output_type": "stream",
          "text": [
            "Welcome to the Battle of Neigbours!\n"
          ],
          "name": "stdout"
        }
      ]
    }
  ]
}